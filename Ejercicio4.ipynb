{
 "cells": [
  {
   "cell_type": "code",
   "execution_count": 15,
   "id": "ae4d063a",
   "metadata": {},
   "outputs": [
    {
     "name": "stdout",
     "output_type": "stream",
     "text": [
      "[4, 6, 1, 1, 6, 9, 1, 9, 9, 1]\n",
      "La media aritmética es => 4.7\n",
      "La nota más alta es => 9\n",
      "La nota más baja => 1\n",
      "No puede haber suspensos. ¡A estudiar!\n"
     ]
    }
   ],
   "source": [
    "def media(lista):\n",
    "        return sum(lista)/10\n",
    "import random\n",
    "lista = [random.randint(1,10) for i in range(10)]\n",
    "print(lista)\n",
    "print(\"La media aritmética es =>\", media(lista))\n",
    "mayor = max(lista)\n",
    "menor = min(lista)\n",
    "print(\"La nota más alta es =>\", mayor)\n",
    "print(\"La nota más baja =>\", menor)\n",
    "if any(c<5 for c in lista):\n",
    "    print(\"No puede haber suspensos. ¡A estudiar!\")"
   ]
  }
 ],
 "metadata": {
  "kernelspec": {
   "display_name": "base",
   "language": "python",
   "name": "python3"
  },
  "language_info": {
   "codemirror_mode": {
    "name": "ipython",
    "version": 3
   },
   "file_extension": ".py",
   "mimetype": "text/x-python",
   "name": "python",
   "nbconvert_exporter": "python",
   "pygments_lexer": "ipython3",
   "version": "3.13.5"
  }
 },
 "nbformat": 4,
 "nbformat_minor": 5
}
