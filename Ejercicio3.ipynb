{
 "cells": [
  {
   "cell_type": "code",
   "execution_count": 3,
   "id": "fb8a440c",
   "metadata": {},
   "outputs": [
    {
     "name": "stdout",
     "output_type": "stream",
     "text": [
      "Lista de números pares => [0, 2, 4, 6, 8, 10]\n"
     ]
    }
   ],
   "source": [
    "def números_pares(n):\n",
    "    return [i for i in range(n+1) if i % 2 == 0]\n",
    "n = int(input(\"Escriba la cantidad de números pares que desea generar:\" ))\n",
    "print(\"Lista de números pares =>\", números_pares(n))"
   ]
  },
  {
   "cell_type": "code",
   "execution_count": 5,
   "id": "71c5c37a",
   "metadata": {},
   "outputs": [
    {
     "name": "stdout",
     "output_type": "stream",
     "text": [
      "Lista de números impares => [1, 3, 5, 7, 9]\n"
     ]
    }
   ],
   "source": [
    "def números_impares(m):\n",
    "    return [c for c in range(m+1) if c % 2 != 0]\n",
    "m = int(input(\"Escriba la cantidad de números impares que desea generar:\" ))\n",
    "print(\"Lista de números impares =>\", números_impares(m))"
   ]
  },
  {
   "cell_type": "code",
   "execution_count": 8,
   "id": "b61e51ad",
   "metadata": {},
   "outputs": [
    {
     "name": "stdout",
     "output_type": "stream",
     "text": [
      "Lista de números negativos => [-1, -2, -3, -4, -5, -6, -7, -8, -9, -10]\n"
     ]
    }
   ],
   "source": [
    "def números_negativos(p):\n",
    "    return[i for i in range(0,-p-1,-1) if i < 0]\n",
    "p = int(input(\"Escriba la cantidad de números negativos que desea generar:\" ))\n",
    "print(\"Lista de números negativos =>\", números_negativos(p))"
   ]
  }
 ],
 "metadata": {
  "kernelspec": {
   "display_name": "base",
   "language": "python",
   "name": "python3"
  },
  "language_info": {
   "codemirror_mode": {
    "name": "ipython",
    "version": 3
   },
   "file_extension": ".py",
   "mimetype": "text/x-python",
   "name": "python",
   "nbconvert_exporter": "python",
   "pygments_lexer": "ipython3",
   "version": "3.13.5"
  }
 },
 "nbformat": 4,
 "nbformat_minor": 5
}
